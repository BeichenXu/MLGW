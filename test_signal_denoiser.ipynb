{
 "cells": [
  {
   "cell_type": "code",
   "execution_count": 1,
   "metadata": {},
   "outputs": [
    {
     "name": "stdout",
     "output_type": "stream",
     "text": [
      "JAX devices:[CpuDevice(id=0)]\n"
     ]
    }
   ],
   "source": [
    "from tqdm.auto import tqdm\n",
    "import matplotlib.pyplot as plt\n",
    "\n",
    "import jax\n",
    "import optax\n",
    "import flax\n",
    "from flax.training.train_state import TrainState\n",
    "from functools import partial\n",
    "\n",
    "from dataset.chirping_binary import ChirpingBinary\n",
    "from models.signalprocessing import MambaSP\n",
    "import training\n",
    "\n",
    "\n",
    "print(f\"JAX devices:{jax.devices()}\")"
   ]
  },
  {
   "cell_type": "code",
   "execution_count": 2,
   "metadata": {},
   "outputs": [],
   "source": [
    "rng_key = jax.random.key(0)\n",
    "batch_size = 128\n",
    "\n",
    "episode_duration_s = 10\n",
    "sample_rate_Hz = 100\n",
    "dataset = ChirpingBinary(1, episode_duration_s, sample_rate_Hz, scale=1e20)\n",
    "model = MambaSP(sample_rate_Hz, state_dim=64, n_layers=4)"
   ]
  },
  {
   "cell_type": "code",
   "execution_count": 3,
   "metadata": {},
   "outputs": [
    {
     "data": {
      "application/vnd.jupyter.widget-view+json": {
       "model_id": "3b85d44a9d6f475980e9ff70cffbaf79",
       "version_major": 2,
       "version_minor": 0
      },
      "text/plain": [
       "0it [00:00, ?it/s]"
      ]
     },
     "metadata": {},
     "output_type": "display_data"
    },
    {
     "data": {
      "application/vnd.jupyter.widget-view+json": {
       "model_id": "863e2cfef8404ec4848752acbd0f6a68",
       "version_major": 2,
       "version_minor": 0
      },
      "text/plain": [
       "  0%|          | 0/1000 [00:00<?, ?it/s]"
      ]
     },
     "metadata": {},
     "output_type": "display_data"
    }
   ],
   "source": [
    "optimization_step = jax.jit(\n",
    "    partial(training.optimization_step, loss_fn=training.signal_mse_loss)\n",
    ")\n",
    "get_batch = jax.jit(dataset.get_batch, static_argnames=[\"batch_size\"])\n",
    "\n",
    "\n",
    "train_state = TrainState.create(\n",
    "    apply_fn=model.apply,\n",
    "    params=model.init(rng_key, dataset.sample(rng_key)[0]),\n",
    "    tx=optax.chain(optax.clip(1.0), optax.adam(3e-4, b2=0.95)),\n",
    ")\n",
    "\n",
    "N_epochs = 10\n",
    "batches_per_epoch = 1000\n",
    "for epoch_idx, epoch_rng_key in tqdm(enumerate(jax.random.split(rng_key, N_epochs))):\n",
    "    losses = []\n",
    "    for batch_rng_key in tqdm(jax.random.split(epoch_rng_key, batches_per_epoch), leave=False):\n",
    "        x, y = get_batch(batch_rng_key, batch_size)\n",
    "        train_state, loss_value = optimization_step(train_state, x, y)\n",
    "        losses.append(loss_value)\n",
    "\n",
    "    print(f\"Loss: {sum(losses) / len(losses)}\")\n",
    "    noisy_signal, clean_signal = dataset.sample(epoch_rng_key)\n",
    "    reconstruction = train_state.apply_fn(train_state.params, noisy_signal)\n",
    "    plt.figure(figsize=(12, 4))\n",
    "    plt.step(dataset.times, clean_signal, label=\"Clean signal\")\n",
    "    plt.step(dataset.times, noisy_signal, label=\"Noisy signal\")\n",
    "    plt.step(dataset.times, reconstruction, label=\"Reconstruction\")\n",
    "    plt.xlabel(\"Time (s)\")\n",
    "    plt.ylabel(\"Signal\")\n",
    "    plt.legend()\n",
    "    plt.show()"
   ]
  }
 ],
 "metadata": {
  "kernelspec": {
   "display_name": "base",
   "language": "python",
   "name": "python3"
  },
  "language_info": {
   "codemirror_mode": {
    "name": "ipython",
    "version": 3
   },
   "file_extension": ".py",
   "mimetype": "text/x-python",
   "name": "python",
   "nbconvert_exporter": "python",
   "pygments_lexer": "ipython3",
   "version": "3.11.5"
  }
 },
 "nbformat": 4,
 "nbformat_minor": 2
}
